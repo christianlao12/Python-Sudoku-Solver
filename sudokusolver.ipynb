{
 "cells": [
  {
   "cell_type": "code",
   "execution_count": 1,
   "metadata": {},
   "outputs": [],
   "source": [
    "grid = [\n",
    "    [0, 0, 0, 7, 8, 4, 5, 0, 0],\n",
    "    [0, 0, 0, 0, 0, 0, 6, 0, 4],\n",
    "    [0, 0, 0, 1, 0, 0, 0, 0, 3],\n",
    "    [0, 7, 0, 0, 5, 0, 4, 0, 0],\n",
    "    [9, 0, 0, 0, 3, 0, 0, 0, 2],\n",
    "    [0, 0, 6, 0, 1, 0, 0, 8, 0],\n",
    "    [1, 0, 0, 0, 0, 3, 0, 0, 0],\n",
    "    [3, 0, 8, 0, 0, 0, 0, 0, 0],\n",
    "    [0, 0, 2, 9, 7, 1, 0, 0, 0],\n",
    "]"
   ]
  },
  {
   "cell_type": "code",
   "execution_count": 2,
   "metadata": {},
   "outputs": [],
   "source": [
    "def print_board(bo):\n",
    "\n",
    "    for i in range(len(bo)):\n",
    "        if i % 3 == 0 and i != 0:\n",
    "            print(\"- - - - - - - - - - - -\")\n",
    "\n",
    "        for j in range(len(bo[0])):\n",
    "            if j % 3 == 0 and j != 0:\n",
    "                print(\" | \", end=\"\")\n",
    "\n",
    "            if j == 8:\n",
    "                print(bo[i][j])\n",
    "            else:\n",
    "                print(str(bo[i][j]) + \" \", end=\"\")"
   ]
  },
  {
   "cell_type": "code",
   "execution_count": 3,
   "metadata": {},
   "outputs": [
    {
     "name": "stdout",
     "output_type": "stream",
     "text": [
      "0 0 0  | 7 8 4  | 5 0 0\n",
      "0 0 0  | 0 0 0  | 6 0 4\n",
      "0 0 0  | 1 0 0  | 0 0 3\n",
      "- - - - - - - - - - - -\n",
      "0 7 0  | 0 5 0  | 4 0 0\n",
      "9 0 0  | 0 3 0  | 0 0 2\n",
      "0 0 6  | 0 1 0  | 0 8 0\n",
      "- - - - - - - - - - - -\n",
      "1 0 0  | 0 0 3  | 0 0 0\n",
      "3 0 8  | 0 0 0  | 0 0 0\n",
      "0 0 2  | 9 7 1  | 0 0 0\n"
     ]
    }
   ],
   "source": [
    "print_board(grid)"
   ]
  },
  {
   "cell_type": "code",
   "execution_count": 4,
   "metadata": {},
   "outputs": [],
   "source": [
    "def valid(bo, num, pos):\n",
    "    # Check row\n",
    "    for i in range(len(bo[0])):\n",
    "        if bo[pos[0]][i] == num:\n",
    "            return False\n",
    "\n",
    "    # Check column\n",
    "    for i in range(len(bo)):\n",
    "        if bo[i][pos[1]] == num:\n",
    "            return False\n",
    "\n",
    "    # Check box\n",
    "    box_x = pos[1] // 3\n",
    "    box_y = pos[0] // 3\n",
    "\n",
    "    for i in range(box_y * 3, box_y * 3 + 3):\n",
    "        for j in range(box_x * 3, box_x * 3 + 3):\n",
    "            if bo[i][j] == num and (i, j) != pos:\n",
    "                return False\n",
    "    return True"
   ]
  },
  {
   "cell_type": "code",
   "execution_count": 5,
   "metadata": {},
   "outputs": [],
   "source": [
    "def find_empty(bo):\n",
    "    for i in range(len(bo)):\n",
    "        for j in range(len(bo[0])):\n",
    "            if bo[i][j] == 0:\n",
    "                return (i, j)\n",
    "\n",
    "    return None"
   ]
  },
  {
   "cell_type": "code",
   "execution_count": 6,
   "metadata": {},
   "outputs": [],
   "source": [
    "def solve(bo):\n",
    "    find = find_empty(bo)\n",
    "    if not find:\n",
    "        return True\n",
    "    else:\n",
    "        row, col = find\n",
    "\n",
    "    for i in range(1, 10):\n",
    "        if valid(bo, i, (row, col)):\n",
    "            bo[row][col] = i\n",
    "\n",
    "            if solve(bo):\n",
    "                return True\n",
    "\n",
    "            bo[row][col] = 0\n",
    "\n",
    "    return False"
   ]
  },
  {
   "cell_type": "code",
   "execution_count": 7,
   "metadata": {},
   "outputs": [
    {
     "name": "stdout",
     "output_type": "stream",
     "text": [
      "6 2 3  | 7 8 4  | 5 9 1\n",
      "8 1 9  | 3 2 5  | 6 7 4\n",
      "7 5 4  | 1 9 6  | 8 2 3\n",
      "- - - - - - - - - - - -\n",
      "2 7 1  | 6 5 8  | 4 3 9\n",
      "9 8 5  | 4 3 7  | 1 6 2\n",
      "4 3 6  | 2 1 9  | 7 8 5\n",
      "- - - - - - - - - - - -\n",
      "1 9 7  | 8 4 3  | 2 5 6\n",
      "3 4 8  | 5 6 2  | 9 1 7\n",
      "5 6 2  | 9 7 1  | 3 4 8\n"
     ]
    }
   ],
   "source": [
    "solve(grid)\n",
    "print_board(grid)"
   ]
  },
  {
   "cell_type": "code",
   "execution_count": null,
   "metadata": {},
   "outputs": [],
   "source": []
  }
 ],
 "metadata": {
  "kernelspec": {
   "display_name": "Python 3",
   "language": "python",
   "name": "python3"
  },
  "language_info": {
   "codemirror_mode": {
    "name": "ipython",
    "version": 3
   },
   "file_extension": ".py",
   "mimetype": "text/x-python",
   "name": "python",
   "nbconvert_exporter": "python",
   "pygments_lexer": "ipython3",
   "version": "3.8.5"
  }
 },
 "nbformat": 4,
 "nbformat_minor": 4
}
